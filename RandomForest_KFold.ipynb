{
  "metadata": {
    "language_info": {
      "codemirror_mode": {
        "name": "python",
        "version": 3
      },
      "file_extension": ".py",
      "mimetype": "text/x-python",
      "name": "python",
      "nbconvert_exporter": "python",
      "pygments_lexer": "ipython3",
      "version": "3.8"
    },
    "kernelspec": {
      "name": "python",
      "display_name": "Python (Pyodide)",
      "language": "python"
    }
  },
  "nbformat_minor": 4,
  "nbformat": 4,
  "cells": [
    {
      "cell_type": "code",
      "source": "import warnings\nimport numpy as np\nimport pandas as pd\nfrom sklearn import metrics\nfrom sklearn.model_selection import KFold\nfrom sklearn.model_selection import train_test_split\nfrom sklearn.tree import DecisionTreeClassifier\nfrom sklearn.ensemble import RandomForestClassifier\nfrom sklearn.metrics import classification_report\nwarnings.filterwarnings('ignore')\n\ndat_1 = pd.read_csv('data_1.csv')\ndat_2 = pd.read_csv('data_2.csv')\ndat_3 = pd.read_csv('data_3.csv')\ndat_4 = pd.read_csv('data_4.csv')\ndat_5 = pd.read_csv('data_5.csv')",
      "metadata": {
        "trusted": true
      },
      "execution_count": 2,
      "outputs": []
    },
    {
      "cell_type": "code",
      "source": "dat_df_1 = dat_1.append(dat_2)\ndat_df_2 = dat_df_1.append(dat_3)\ndat_df_3 = dat_df_2.append(dat_4)\ndat_df = dat_df_3.append(dat_5)\ndat_df = dat_df.reset_index(drop=True)",
      "metadata": {
        "trusted": true
      },
      "execution_count": 3,
      "outputs": []
    },
    {
      "cell_type": "code",
      "source": "dat_df",
      "metadata": {
        "trusted": true
      },
      "execution_count": 4,
      "outputs": [
        {
          "execution_count": 4,
          "output_type": "execute_result",
          "data": {
            "text/plain": "       Unnamed: 0.1  Unnamed: 0         X_Max         Y_Max      Dist_Max  \\\n0                 0           0  56478.957499  44817.352295  1.867769e+06   \n1                 1           1  56478.957499  17395.165502  1.867769e+06   \n2                 2           2  56478.957499  17395.165502  1.867769e+06   \n3                 3           3  56478.957499  17395.165502  1.867769e+06   \n4                 4           4  56478.957499  17395.165502  1.867769e+06   \n...             ...         ...           ...           ...           ...   \n32714          6539        5243   3450.438380  10151.123777  1.367188e+04   \n32715          6540        5244   3450.438380  10151.123777  1.367188e+04   \n32716          6541        5245   3045.794736  10151.123777  1.367188e+04   \n32717          6542        5246   3045.794736   7803.719491  1.367188e+04   \n32718          6543        5247   2649.426460   7803.719491  1.367188e+04   \n\n           X_Min      Y_Min       Dist_Min       X_Mean       Y_Mean  \\\n0       1.706477   4.054253 -140625.000000  6857.895115  4185.093345   \n1       1.706477   4.054253 -140625.000000  6972.934352  2705.523434   \n2       1.706477   4.054253 -140625.000000  7134.263374  2747.662066   \n3       1.706477   4.054253 -140625.000000  6849.644121  2583.979451   \n4       1.706477   4.054253 -957336.108221  7044.163248  2655.486170   \n...          ...        ...            ...          ...          ...   \n32714  53.333313  57.639554  -16649.323621  1339.016739  3993.952788   \n32715  53.333313  57.639554  -16649.323621  1254.257981  3741.209237   \n32716  53.333313  57.639554  -16649.323621  1181.489519  3453.802718   \n32717  53.333313  57.639554   -8324.661811  1094.300598  3124.718590   \n32718  53.333313  57.639554   -8324.661811  1003.494357  2935.711478   \n\n          Dist_Mean         X_Var         Y_Var      Dist_Var    Answer  \\\n0      58587.457545  1.778089e+08  7.884381e+07  1.182813e+11  password   \n1      58190.032024  1.766192e+08  2.013500e+07  1.183415e+11  password   \n2      57158.257154  1.751221e+08  2.005723e+07  1.184982e+11  password   \n3      54603.797369  1.748093e+08  1.962849e+07  1.188551e+11  password   \n4      22761.965943  1.731970e+08  1.942701e+07  1.530066e+11  password   \n...             ...           ...           ...           ...       ...   \n32714   -464.562399  9.771836e+05  8.321296e+06  4.388846e+07       map   \n32715     87.869197  9.566888e+05  8.240477e+06  3.938176e+07       map   \n32716    515.314296  7.848994e+05  7.571601e+06  3.528527e+07       map   \n32717   1139.663931  7.267901e+05  6.260529e+06  2.480709e+07       map   \n32718   1280.697381  6.075264e+05  6.230494e+06  2.464497e+07       map   \n\n       subject  \n0            1  \n1            1  \n2            1  \n3            1  \n4            1  \n...        ...  \n32714        5  \n32715        5  \n32716        5  \n32717        5  \n32718        5  \n\n[32719 rows x 16 columns]",
            "text/html": "<div>\n<style scoped>\n    .dataframe tbody tr th:only-of-type {\n        vertical-align: middle;\n    }\n\n    .dataframe tbody tr th {\n        vertical-align: top;\n    }\n\n    .dataframe thead th {\n        text-align: right;\n    }\n</style>\n<table border=\"1\" class=\"dataframe\">\n  <thead>\n    <tr style=\"text-align: right;\">\n      <th></th>\n      <th>Unnamed: 0.1</th>\n      <th>Unnamed: 0</th>\n      <th>X_Max</th>\n      <th>Y_Max</th>\n      <th>Dist_Max</th>\n      <th>X_Min</th>\n      <th>Y_Min</th>\n      <th>Dist_Min</th>\n      <th>X_Mean</th>\n      <th>Y_Mean</th>\n      <th>Dist_Mean</th>\n      <th>X_Var</th>\n      <th>Y_Var</th>\n      <th>Dist_Var</th>\n      <th>Answer</th>\n      <th>subject</th>\n    </tr>\n  </thead>\n  <tbody>\n    <tr>\n      <th>0</th>\n      <td>0</td>\n      <td>0</td>\n      <td>56478.957499</td>\n      <td>44817.352295</td>\n      <td>1.867769e+06</td>\n      <td>1.706477</td>\n      <td>4.054253</td>\n      <td>-140625.000000</td>\n      <td>6857.895115</td>\n      <td>4185.093345</td>\n      <td>58587.457545</td>\n      <td>1.778089e+08</td>\n      <td>7.884381e+07</td>\n      <td>1.182813e+11</td>\n      <td>password</td>\n      <td>1</td>\n    </tr>\n    <tr>\n      <th>1</th>\n      <td>1</td>\n      <td>1</td>\n      <td>56478.957499</td>\n      <td>17395.165502</td>\n      <td>1.867769e+06</td>\n      <td>1.706477</td>\n      <td>4.054253</td>\n      <td>-140625.000000</td>\n      <td>6972.934352</td>\n      <td>2705.523434</td>\n      <td>58190.032024</td>\n      <td>1.766192e+08</td>\n      <td>2.013500e+07</td>\n      <td>1.183415e+11</td>\n      <td>password</td>\n      <td>1</td>\n    </tr>\n    <tr>\n      <th>2</th>\n      <td>2</td>\n      <td>2</td>\n      <td>56478.957499</td>\n      <td>17395.165502</td>\n      <td>1.867769e+06</td>\n      <td>1.706477</td>\n      <td>4.054253</td>\n      <td>-140625.000000</td>\n      <td>7134.263374</td>\n      <td>2747.662066</td>\n      <td>57158.257154</td>\n      <td>1.751221e+08</td>\n      <td>2.005723e+07</td>\n      <td>1.184982e+11</td>\n      <td>password</td>\n      <td>1</td>\n    </tr>\n    <tr>\n      <th>3</th>\n      <td>3</td>\n      <td>3</td>\n      <td>56478.957499</td>\n      <td>17395.165502</td>\n      <td>1.867769e+06</td>\n      <td>1.706477</td>\n      <td>4.054253</td>\n      <td>-140625.000000</td>\n      <td>6849.644121</td>\n      <td>2583.979451</td>\n      <td>54603.797369</td>\n      <td>1.748093e+08</td>\n      <td>1.962849e+07</td>\n      <td>1.188551e+11</td>\n      <td>password</td>\n      <td>1</td>\n    </tr>\n    <tr>\n      <th>4</th>\n      <td>4</td>\n      <td>4</td>\n      <td>56478.957499</td>\n      <td>17395.165502</td>\n      <td>1.867769e+06</td>\n      <td>1.706477</td>\n      <td>4.054253</td>\n      <td>-957336.108221</td>\n      <td>7044.163248</td>\n      <td>2655.486170</td>\n      <td>22761.965943</td>\n      <td>1.731970e+08</td>\n      <td>1.942701e+07</td>\n      <td>1.530066e+11</td>\n      <td>password</td>\n      <td>1</td>\n    </tr>\n    <tr>\n      <th>...</th>\n      <td>...</td>\n      <td>...</td>\n      <td>...</td>\n      <td>...</td>\n      <td>...</td>\n      <td>...</td>\n      <td>...</td>\n      <td>...</td>\n      <td>...</td>\n      <td>...</td>\n      <td>...</td>\n      <td>...</td>\n      <td>...</td>\n      <td>...</td>\n      <td>...</td>\n      <td>...</td>\n    </tr>\n    <tr>\n      <th>32714</th>\n      <td>6539</td>\n      <td>5243</td>\n      <td>3450.438380</td>\n      <td>10151.123777</td>\n      <td>1.367188e+04</td>\n      <td>53.333313</td>\n      <td>57.639554</td>\n      <td>-16649.323621</td>\n      <td>1339.016739</td>\n      <td>3993.952788</td>\n      <td>-464.562399</td>\n      <td>9.771836e+05</td>\n      <td>8.321296e+06</td>\n      <td>4.388846e+07</td>\n      <td>map</td>\n      <td>5</td>\n    </tr>\n    <tr>\n      <th>32715</th>\n      <td>6540</td>\n      <td>5244</td>\n      <td>3450.438380</td>\n      <td>10151.123777</td>\n      <td>1.367188e+04</td>\n      <td>53.333313</td>\n      <td>57.639554</td>\n      <td>-16649.323621</td>\n      <td>1254.257981</td>\n      <td>3741.209237</td>\n      <td>87.869197</td>\n      <td>9.566888e+05</td>\n      <td>8.240477e+06</td>\n      <td>3.938176e+07</td>\n      <td>map</td>\n      <td>5</td>\n    </tr>\n    <tr>\n      <th>32716</th>\n      <td>6541</td>\n      <td>5245</td>\n      <td>3045.794736</td>\n      <td>10151.123777</td>\n      <td>1.367188e+04</td>\n      <td>53.333313</td>\n      <td>57.639554</td>\n      <td>-16649.323621</td>\n      <td>1181.489519</td>\n      <td>3453.802718</td>\n      <td>515.314296</td>\n      <td>7.848994e+05</td>\n      <td>7.571601e+06</td>\n      <td>3.528527e+07</td>\n      <td>map</td>\n      <td>5</td>\n    </tr>\n    <tr>\n      <th>32717</th>\n      <td>6542</td>\n      <td>5246</td>\n      <td>3045.794736</td>\n      <td>7803.719491</td>\n      <td>1.367188e+04</td>\n      <td>53.333313</td>\n      <td>57.639554</td>\n      <td>-8324.661811</td>\n      <td>1094.300598</td>\n      <td>3124.718590</td>\n      <td>1139.663931</td>\n      <td>7.267901e+05</td>\n      <td>6.260529e+06</td>\n      <td>2.480709e+07</td>\n      <td>map</td>\n      <td>5</td>\n    </tr>\n    <tr>\n      <th>32718</th>\n      <td>6543</td>\n      <td>5247</td>\n      <td>2649.426460</td>\n      <td>7803.719491</td>\n      <td>1.367188e+04</td>\n      <td>53.333313</td>\n      <td>57.639554</td>\n      <td>-8324.661811</td>\n      <td>1003.494357</td>\n      <td>2935.711478</td>\n      <td>1280.697381</td>\n      <td>6.075264e+05</td>\n      <td>6.230494e+06</td>\n      <td>2.464497e+07</td>\n      <td>map</td>\n      <td>5</td>\n    </tr>\n  </tbody>\n</table>\n<p>32719 rows × 16 columns</p>\n</div>"
          },
          "metadata": {}
        }
      ]
    },
    {
      "cell_type": "code",
      "source": "X = dat_df[['X_Max', 'Y_Max', 'Dist_Max', 'X_Min', 'Y_Min', 'Dist_Min', 'X_Mean', 'Y_Mean', 'Dist_Mean', 'X_Var', 'Y_Var', 'Dist_Var']]\ny = dat_df['Answer']",
      "metadata": {
        "trusted": true
      },
      "execution_count": 5,
      "outputs": []
    },
    {
      "cell_type": "code",
      "source": "cv = KFold(n_splits=5,random_state=0 ,shuffle=True)\nforest = RandomForestClassifier(max_depth=5, random_state=0)\nfor train_index, test_index in cv.split(X):\n    X_train, X_test = X.iloc[train_index], X.iloc[test_index]\n    y_train, y_test = y.iloc[train_index], y.iloc[test_index]\n    forest.fit(X_train, y_train)\n    pred = forest.predict(X_test)",
      "metadata": {
        "trusted": true
      },
      "execution_count": 16,
      "outputs": []
    },
    {
      "cell_type": "code",
      "source": "print(metrics.accuracy_score(y_test,pred))\nprint(metrics.precision_score(y_test, pred, average=None))\nprint(metrics.recall_score(y_test, pred, average=None))\nprint(metrics.f1_score(y_test, pred, average=None))\nprint(\"score:\",forest.score(X_test,y_test))\nprint(\"score:\",forest.score(X_train,y_train))",
      "metadata": {
        "trusted": true
      },
      "execution_count": 17,
      "outputs": [
        {
          "name": "stdout",
          "text": "0.8480819196087421\n[0.84963768 0.82802548]\n[0.98454198 0.29930929]\n[0.91212871 0.43968433]\nscore: 0.8480819196087421\nscore: 0.8529569070904646\n",
          "output_type": "stream"
        }
      ]
    },
    {
      "cell_type": "code",
      "source": "print(metrics.accuracy_score(y_test,pred))\nprint(classification_report(y_test, pred))",
      "metadata": {
        "trusted": true
      },
      "execution_count": 15,
      "outputs": [
        {
          "name": "stdout",
          "text": "0.9287788476234143\n              precision    recall  f1-score   support\n\n         map       0.92      0.99      0.96      5240\n    password       0.96      0.67      0.79      1303\n\n    accuracy                           0.93      6543\n   macro avg       0.94      0.83      0.87      6543\nweighted avg       0.93      0.93      0.92      6543\n\n",
          "output_type": "stream"
        }
      ]
    },
    {
      "cell_type": "code",
      "source": "",
      "metadata": {},
      "execution_count": null,
      "outputs": []
    }
  ]
}